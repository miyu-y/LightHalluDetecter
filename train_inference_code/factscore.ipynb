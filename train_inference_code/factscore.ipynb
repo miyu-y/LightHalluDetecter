{
 "cells": [
  {
   "cell_type": "markdown",
   "metadata": {},
   "source": [
    "This library is old (2023), so you will need to downgrade the versions of openai and numpy. \n",
    "\n",
    "Therefore, we recommend creating a separate virtual environment.\n",
    "\n",
    "(Please use requirements_fs.txt)"
   ]
  },
  {
   "cell_type": "code",
   "execution_count": null,
   "metadata": {},
   "outputs": [],
   "source": [
    "# please read original reference : https://github.com/shmsw25/FActScore\n",
    "%pip install --upgrade factscore"
   ]
  },
  {
   "cell_type": "markdown",
   "metadata": {},
   "source": [
    "Please change factscore/atomic_facts.py.\n",
    "line 26 : \"InstructGPT\" -> \"ChatGPT\""
   ]
  },
  {
   "cell_type": "code",
   "execution_count": null,
   "metadata": {},
   "outputs": [],
   "source": [
    "!python -m spacy download en_core_web_sm"
   ]
  },
  {
   "cell_type": "code",
   "execution_count": null,
   "metadata": {},
   "outputs": [],
   "source": [
    "%pip install ipywidgets"
   ]
  },
  {
   "cell_type": "code",
   "execution_count": null,
   "metadata": {},
   "outputs": [],
   "source": [
    "import nltk\n",
    "nltk.download('punkt_tab')\n"
   ]
  },
  {
   "cell_type": "code",
   "execution_count": null,
   "metadata": {},
   "outputs": [],
   "source": [
    "%pip install openai==0.27.8\n"
   ]
  },
  {
   "cell_type": "code",
   "execution_count": null,
   "metadata": {},
   "outputs": [],
   "source": [
    "!python -m factscore.download_data "
   ]
  },
  {
   "cell_type": "code",
   "execution_count": null,
   "metadata": {},
   "outputs": [],
   "source": [
    "%pip install torch==2.1.2"
   ]
  },
  {
   "cell_type": "code",
   "execution_count": null,
   "metadata": {},
   "outputs": [],
   "source": [
    "%pip install \"numpy<2.0\"\n"
   ]
  },
  {
   "cell_type": "code",
   "execution_count": null,
   "metadata": {},
   "outputs": [],
   "source": [
    "import json\n",
    "with open(\"../dataset/rag_truth_test.json\", \"r\") as f:\n",
    "    data = json.load(f)"
   ]
  },
  {
   "cell_type": "code",
   "execution_count": 3,
   "metadata": {},
   "outputs": [
    {
     "data": {
      "text/plain": [
       "{'ref': 'The FBI charged a Philadelphia woman on Thursday with trying to travel overseas to fight for ISIS. She\\'s one of three women arrested this week on terror charges. Two New York women were also taken into custody. An FBI complaint cites numerous social media messages dating back to August 2013 that were sent by Keonna Thomas, 30, also known as \"Young Lioness\" and \"Fatayat Al Khilafah.\" One Twitter message said, \"If we truly knew the realities ... we all would be rushing to join our brothers in the front lines pray ALLAH accept us as shuhada [martyrs].\" Another said, \"When you\\'re a mujahid [violent jihadi fighter] your death becomes a wedding.\" The FBI said Thomas purchased an electronic visa to Turkey on March 23. Turkey is known as the easiest place from which to enter Syria and join ISIS. An ISIS manual advises recruits to buy round-trip tickets to vacation spots such as Spain and then purchase tickets for their real destination once they arrive overseas, the FBI said. On March 26, Thomas purchased a ticket to Barcelona, with a March 29 departure and an April 15 return to the United States, the complaint said. It\\'s not clear when or where she was arrested. She was charged with knowingly attempting to provide material support and resources to a designated foreign terrorist organization. She could be sentenced to 15 years in prison. On Thursday, Noelle Velentzas, 28, and her former roommate, Asia Siddiqui, 31, were arrested in New York and accused of planning to build an explosive device for attacks in the United States, federal prosecutors said. In the past 18 months, the Justice Department\\'s National Security Division has prosecuted or is prosecuting more than 30 cases of people attempting to travel abroad to join or provide support to terrorist groups. Of those cases, 18 allegedly involve support to ISIS. \"The terrorist threat is more decentralized, more diffuse, more complicated,\" Homeland Security Secretary Jeh Johnson told reporters Thursday. \"It involves the potential lone wolf actor, it involves the effective use of social media, the Internet.\"\\n',\n",
       " 'text': 'The FBI has charged a Philadelphia woman, Keonna Thomas, with trying to travel overseas to fight for ISIS. This follows the arrests of two New York women, Noelle Velentzas and Asia Siddiqui, who were accused of planning to build an explosive device for attacks in the United States. Thomas purchased an electronic visa to Turkey and a round-trip ticket to Barcelona, following the advice given in an ISIS manual for recruits. She has been charged with attempting to provide material support to a terrorist organisation and could face 15 years in prison.',\n",
       " 'labels': 0,\n",
       " 'source': 'CNN/DM',\n",
       " 'model': 'gpt-4-0613',\n",
       " 'task_type': 'Summary',\n",
       " 'source_id': '15596'}"
      ]
     },
     "execution_count": 3,
     "metadata": {},
     "output_type": "execute_result"
    }
   ],
   "source": [
    "data[0]"
   ]
  },
  {
   "cell_type": "code",
   "execution_count": null,
   "metadata": {},
   "outputs": [],
   "source": [
    "import json\n",
    "\n",
    "# make database to retrieve\n",
    "with open(\".cache/factscore/ragtruth_test_db.jsonl\", \"w\", encoding=\"utf-8\") as f:\n",
    "    for i,d in enumerate(data):\n",
    "        json_line = {\"title\": str(i), \"text\": d[\"ref\"]}\n",
    "        f.write(json.dumps(json_line, ensure_ascii=False) + \"\\n\")\n",
    "\n",
    "\n"
   ]
  },
  {
   "cell_type": "code",
   "execution_count": null,
   "metadata": {},
   "outputs": [],
   "source": [
    "from factscore.factscorer import FactScorer\n",
    "\n",
    "fs = FactScorer(openai_key = \".env\")\n",
    "\n",
    "# once DB file is created, you can reuse it by only specifying `db_path`\n",
    "fs.register_knowledge_source(\"ragtruth_test_db\")"
   ]
  },
  {
   "cell_type": "code",
   "execution_count": null,
   "metadata": {},
   "outputs": [
    {
     "name": "stdout",
     "output_type": "stream",
     "text": [
      "{'score': 1.0, 'respond_ratio': 1.0, 'decisions': [[{'atom': 'The FBI has charged a Philadelphia woman.', 'is_supported': True}, {'atom': \"The Philadelphia woman's name is Keonna Thomas.\", 'is_supported': True}, {'atom': 'Keonna Thomas was charged with trying to travel overseas.', 'is_supported': True}, {'atom': 'Keonna Thomas was charged with trying to travel overseas to fight for ISIS.', 'is_supported': True}, {'atom': 'Two New York women were arrested.', 'is_supported': True}, {'atom': 'The names of the two women are Noelle Velentzas and Asia Siddiqui.', 'is_supported': True}, {'atom': 'Noelle Velentzas and Asia Siddiqui were accused of planning to build an explosive device.', 'is_supported': True}, {'atom': 'They were accused of planning to build an explosive device for attacks in the United States.', 'is_supported': True}, {'atom': 'The arrests of the two women followed this incident.', 'is_supported': True}, {'atom': 'Thomas purchased an electronic visa to Turkey.', 'is_supported': True}, {'atom': 'Thomas purchased a round-trip ticket to Barcelona.', 'is_supported': True}, {'atom': 'Thomas followed advice given in an ISIS manual for recruits.', 'is_supported': True}, {'atom': 'She has been charged with attempting to provide material support to a terrorist organization.', 'is_supported': True}, {'atom': 'She could face 15 years in prison.', 'is_supported': True}]], 'num_facts_per_response': 14.0, 'init_score': 1.0}\n"
     ]
    }
   ],
   "source": [
    "# key : index, value : input_text of RAGTruth\n",
    "topics = [\"0\"]\n",
    "generations = [data[0][\"text\"]]\n",
    "\n",
    "results = fs.get_score(\n",
    "    topics = topics,\n",
    "    generations = generations,\n",
    "    knowledge_source= \"ragtruth_test_db\"\n",
    ")\n",
    "\n",
    "print(results)"
   ]
  },
  {
   "cell_type": "code",
   "execution_count": null,
   "metadata": {},
   "outputs": [],
   "source": [
    "from tqdm import tqdm\n",
    "\n",
    "outputs = []\n",
    "for i,d in enumerate(tqdm(data)):\n",
    "    topics = [str(i)]\n",
    "    generations = [d[\"text\"]]\n",
    "    results = fs.get_score(topics=topics,\n",
    "                       generations=generations,\n",
    "                       knowledge_source=\"ragtruth_test_db\")\n",
    "    outputs.append(results[\"score\"])"
   ]
  },
  {
   "cell_type": "code",
   "execution_count": null,
   "metadata": {},
   "outputs": [],
   "source": [
    "answers = [d[\"labels\"] for d in data]"
   ]
  },
  {
   "cell_type": "code",
   "execution_count": null,
   "metadata": {},
   "outputs": [],
   "source": [
    "outputs_l = []\n",
    "for o in outputs:\n",
    "    if o < 1.0:\n",
    "        outputs_l.append(1)\n",
    "    else: # faithful\n",
    "        outputs_l.append(0)\n",
    "        \n",
    "count = Counter(outputs_l)\n",
    "\n",
    "print(count)\n",
    "\n",
    "    "
   ]
  },
  {
   "cell_type": "code",
   "execution_count": null,
   "metadata": {},
   "outputs": [],
   "source": [
    "from sklearn.metrics import accuracy_score, f1_score, precision_score, recall_score\n",
    "\n",
    "accuracy_score(answers, outputs_l), f1_score(answers, outputs_l), precision_score(answers, outputs_l), recall_score(answers, outputs_l)"
   ]
  },
  {
   "cell_type": "code",
   "execution_count": null,
   "metadata": {},
   "outputs": [],
   "source": [
    "import os\n",
    "\n",
    "if os.path.exists(\"../results_test.json\"):\n",
    "    with open(\"../results_test.json\", \"r\") as f:\n",
    "        j_data = json.load(f)\n",
    "else:\n",
    "    j_data = []\n",
    "    for i, d in enumerate(data):\n",
    "        j_data.append({\"id\": i, \"label\": d[\"labels\"], \"task\": d[\"task_type\"]})\n",
    "\n",
    "len(j_data)"
   ]
  },
  {
   "cell_type": "code",
   "execution_count": null,
   "metadata": {},
   "outputs": [],
   "source": [
    "for i in range(len(j_data)):\n",
    "    j_data[i][\"fs_score\"] = outputs[i]\n",
    "    j_data[i][\"fs_label\"] = outputs_l[i]"
   ]
  },
  {
   "cell_type": "code",
   "execution_count": null,
   "metadata": {},
   "outputs": [],
   "source": [
    "j_data[0]"
   ]
  },
  {
   "cell_type": "code",
   "execution_count": null,
   "metadata": {},
   "outputs": [],
   "source": [
    "with open(\"../results_test.json\", \"w\") as f:\n",
    "    json.dump(data, f)"
   ]
  }
 ],
 "metadata": {
  "kernelspec": {
   "display_name": ".venv",
   "language": "python",
   "name": "python3"
  },
  "language_info": {
   "codemirror_mode": {
    "name": "ipython",
    "version": 3
   },
   "file_extension": ".py",
   "mimetype": "text/x-python",
   "name": "python",
   "nbconvert_exporter": "python",
   "pygments_lexer": "ipython3",
   "version": "3.9.18"
  }
 },
 "nbformat": 4,
 "nbformat_minor": 2
}
